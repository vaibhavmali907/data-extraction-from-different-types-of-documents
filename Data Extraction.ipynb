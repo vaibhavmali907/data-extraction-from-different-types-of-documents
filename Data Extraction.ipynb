{
 "cells": [
  {
   "cell_type": "code",
   "execution_count": 3,
   "metadata": {},
   "outputs": [],
   "source": [
    "from docx import Document\n",
    "import os\n",
    "import pickle\n",
    "import glob\n",
    "import pdfminer"
   ]
  },
  {
   "cell_type": "markdown",
   "metadata": {},
   "source": [
    "# Loop over .txt files"
   ]
  },
  {
   "cell_type": "code",
   "execution_count": null,
   "metadata": {
    "collapsed": true
   },
   "outputs": [],
   "source": [
    "txt_content={}\n",
    "list_of_txt = glob.glob('Learning/*.txt')\n",
    "for this_path in list_of_txt:\n",
    "    with open(this_path,'r') as ftxt:\n",
    "        content=ftxt.readlines()\n",
    "    txt_content[this_path]=content"
   ]
  },
  {
   "cell_type": "code",
   "execution_count": null,
   "metadata": {},
   "outputs": [],
   "source": [
    "txt_content"
   ]
  },
  {
   "cell_type": "markdown",
   "metadata": {},
   "source": [
    "# Loop over .pdf files"
   ]
  },
  {
   "cell_type": "code",
   "execution_count": null,
   "metadata": {
    "collapsed": true
   },
   "outputs": [],
   "source": [
    "list_of_pdfs = glob.glob('Learning/*.pdf')"
   ]
  },
  {
   "cell_type": "code",
   "execution_count": null,
   "metadata": {},
   "outputs": [],
   "source": [
    "pdf_content={}\n",
    "for this_pdf in list_of_pdfs:\n",
    "    print(this_pdf)\n",
    "    pdf2txt.py  > file_text.txt\n",
    "    with open('file_text.txt','r') as fil:\n",
    "        fil_content = fil.read()\n",
    "    pdf_content[this_pdf]=fil_content"
   ]
  },
  {
   "cell_type": "markdown",
   "metadata": {},
   "source": [
    "# Loop over .docx file"
   ]
  },
  {
   "cell_type": "code",
   "execution_count": null,
   "metadata": {
    "collapsed": true
   },
   "outputs": [],
   "source": [
    "def get_text_from_docx(document):\n",
    "    indx=0\n",
    "    text_in_dict={}\n",
    "    for para in document.paragraphs:\n",
    "        if (len(para.text)>0):\n",
    "            indx+=1\n",
    "            text_in_dict[indx]=para.text\n",
    "    return text_in_dict"
   ]
  },
  {
   "cell_type": "code",
   "execution_count": null,
   "metadata": {
    "collapsed": true
   },
   "outputs": [],
   "source": [
    "directory=\"Learning\"\n",
    "docx_content={}\n",
    "for filename in os.listdir(directory):\n",
    "    if filename.endswith(\".docx\") or filename.endswith(\".doc\"): \n",
    "        this_path=os.path.join(directory, filename)\n",
    "        document = Document(this_path)\n",
    "        docx_content[this_path]=get_text_from_docx(document)"
   ]
  },
  {
   "cell_type": "markdown",
   "metadata": {},
   "source": [
    "# Group all .txt , .pdf , .docx files in a single dictionary"
   ]
  },
  {
   "cell_type": "code",
   "execution_count": null,
   "metadata": {
    "collapsed": true
   },
   "outputs": [],
   "source": [
    "\n",
    "all_documents={}\n",
    "\n",
    "for file_path,content in txt_content.items():\n",
    "    doc_string=\"\"\n",
    "    for this_line in content:\n",
    "        doc_string+=this_line\n",
    "        doc_string+=\" \"\n",
    "    all_documents[file_path]=doc_string\n",
    "\n",
    "for file_path,content in docx_content.items():\n",
    "    doc_string=\"\"\n",
    "    for paragraph_indx,paragraph_content in content.items():\n",
    "        doc_string+=paragraph_content\n",
    "        doc_string+=\" \"\n",
    "    all_documents[file_path]=doc_string\n",
    "        \n",
    "for file_path,content in pdf_content.items():\n",
    "    doc_string=\"\"\n",
    "    for this_line in content:\n",
    "        doc_string+=this_line\n",
    "        doc_string+=\" \"\n",
    "    all_documents[file_path]=doc_string"
   ]
  },
  {
   "cell_type": "code",
   "execution_count": null,
   "metadata": {
    "collapsed": true
   },
   "outputs": [],
   "source": [
    "all_documents.keys()"
   ]
  },
  {
   "cell_type": "code",
   "execution_count": null,
   "metadata": {
    "collapsed": true
   },
   "outputs": [],
   "source": [
    "all_documents['Learning/weekly.docx']"
   ]
  },
  {
   "cell_type": "markdown",
   "metadata": {},
   "source": [
    "# Save the file "
   ]
  },
  {
   "cell_type": "code",
   "execution_count": null,
   "metadata": {
    "collapsed": true
   },
   "outputs": [],
   "source": [
    "pickle.dump(all_documents, open( \"all_documents.pkl\", \"wb\" ) )"
   ]
  }
 ],
 "metadata": {
  "kernelspec": {
   "display_name": "Python 3",
   "language": "python",
   "name": "python3"
  },
  "language_info": {
   "codemirror_mode": {
    "name": "ipython",
    "version": 3
   },
   "file_extension": ".py",
   "mimetype": "text/x-python",
   "name": "python",
   "nbconvert_exporter": "python",
   "pygments_lexer": "ipython3",
   "version": "3.6.3"
  }
 },
 "nbformat": 4,
 "nbformat_minor": 2
}
